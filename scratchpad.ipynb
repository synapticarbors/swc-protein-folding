{
 "cells": [
  {
   "cell_type": "code",
   "execution_count": 1,
   "metadata": {
    "collapsed": true
   },
   "outputs": [],
   "source": [
    "import mdtraj as md"
   ]
  },
  {
   "cell_type": "code",
   "execution_count": 12,
   "metadata": {
    "collapsed": false
   },
   "outputs": [],
   "source": [
    "# extract backbone atoms and write xyz file\n",
    "\n",
    "t = md.load('2f4k.pdb')\n",
    "sel = t.topology.select('backbone')\n",
    "\n",
    "t_bb = t.restrict_atoms(sel)\n",
    "t_bb.save_xyz('2f4k_bb.xyz')"
   ]
  },
  {
   "cell_type": "code",
   "execution_count": 1,
   "metadata": {
    "collapsed": true
   },
   "outputs": [],
   "source": [
    "import numpy as np\n",
    "import numba as nb\n",
    "\n",
    "import folding"
   ]
  },
  {
   "cell_type": "code",
   "execution_count": 16,
   "metadata": {
    "collapsed": true
   },
   "outputs": [],
   "source": [
    "@nb.jit(nopython=True)\n",
    "def calculate_energy(d, d0):\n",
    "    '''Calculate the energy of the system given the pairwise distance between\n",
    "    atoms, stored in the (n_atoms, n_atoms) 2D array `d` and the folded reference\n",
    "    distances stored in an array of the same shape, `d0`.\n",
    "    \n",
    "    E = E_bonded + E_nat + E_nb\n",
    "    '''\n",
    "\n",
    "    E = (calculate_bonded_energy(d, d0) \n",
    "            +  calculate_nativecontact_energy(d, d0) \n",
    "            + calculate_nonbonded_energy(d, d0))\n",
    "\n",
    "    return E\n",
    "\n",
    "\n",
    "@nb.jit(nopython=True)\n",
    "def calculate_bonded_energy(d, d0):\n",
    "    '''Calculate the bond energy between consecutive pairs of atoms\n",
    "    along the chain. The energy is that of a harmonic spring with rest\n",
    "    length equal to the distance in the native structure'''\n",
    "\n",
    "    assert d.shape == d0.shape\n",
    "    n_atoms = d.shape[0]\n",
    "    E = 0.0\n",
    "\n",
    "    for i in range(n_atoms - 1):\n",
    "        E += (d[i,i+1] - d0[i,i+1])**2\n",
    "\n",
    "    return E\n",
    "\n",
    "\n",
    "@nb.jit(nopython=True)\n",
    "def calculate_nativecontact_energy(d, d0):\n",
    "    '''Calculate the Go-like energy term that stabilizes native contacts'''\n",
    "\n",
    "    n_atoms = d.shape[0]\n",
    "    E = 0.0\n",
    "    cutoff = 7.0 # units of angstroms\n",
    "\n",
    "    # loop over all pairs of atoms, (i,j) subject to i < j\n",
    "    # if d0[i,j] < cutoff then atoms are \"in contact\" in the native \n",
    "    # structure\n",
    "    for i in range(n_atoms):\n",
    "        for j in range(i + 1, n_atoms):\n",
    "\n",
    "            if d0[i,j] <= cutoff:\n",
    "                sigma = 2.0**(-1.0/6.0) * d0[i,j]\n",
    "                x = sigma / d[i,j]\n",
    "                E += 4.0*(x**12 - x**6)\n",
    "\n",
    "    return E\n",
    "\n",
    "\n",
    "@nb.jit(nopython=True)\n",
    "def calculate_nonbonded_energy(d, d0):\n",
    "    '''Calculate the repulsive interaction between pairs of atoms\n",
    "    that do not form native contacts'''\n",
    "\n",
    "    n_atoms = d.shape[0]\n",
    "    E = 0.0\n",
    "    native_cutoff = 7.0  # This value is repeated in the nativecontacts terms and should be parameterized\n",
    "    nb_cutoff = 3.0\n",
    "    sigma = 2.0**(-1.0/6.0) * nb_cutoff\n",
    "\n",
    "    for i in range(n_atoms):\n",
    "        for j in range(i + 1, n_atoms):\n",
    "\n",
    "            if d0[i,j] > native_cutoff:\n",
    "                x = sigma / d[i,j]\n",
    "                if d[i,j] < nb_cutoff:\n",
    "                    E += 4.0*(x**12 - x**6)\n",
    "\n",
    "    return E\n",
    "\n",
    "\n",
    "@nb.jit(nopython=True)\n",
    "def calculate_distances(coords):\n",
    "    '''Calculate the pairwise distances between all atoms returning an\n",
    "    (n_atoms, n_atoms) array, where d_{i,j} is the Euclidean distance\n",
    "    between atom i and atom j.'''\n",
    "\n",
    "    n_atoms = coords.shape[0]\n",
    "    n_dims = coords.shape[1]\n",
    "    d = np.empty((n_atoms, n_atoms), dtype=np.float64)\n",
    "\n",
    "    # We will loop over all pairs, but an obvious place for speeding this up\n",
    "    # is recognizing that d_{i,j} == d_{j,i} and d_{i,i] == 0.0\n",
    "    for i in range(n_atoms):\n",
    "        for j in range(n_atoms):\n",
    "            d_ij = 0.0\n",
    "            for k in range(n_dims):\n",
    "                r = coords[i,k] - coords[j,k]\n",
    "                d_ij += r * r\n",
    "\n",
    "            d[i,j] = np.sqrt(d_ij)\n",
    "\n",
    "    return d\n",
    "\n",
    "\n",
    "@nb.jit(nopython=True)\n",
    "def generate_trial_move(coords, delta):\n",
    "    '''Displace all of the atoms in the system by a random\n",
    "    amount drawn from a normal distribution with std delta\n",
    "    \n",
    "    Possible optimization: pass in an pre-allocated array\n",
    "    for `trial_coords` so we don't keep re-allocating memory.\n",
    "    \n",
    "    Could also probably do this with a simple array addition'''\n",
    "\n",
    "    # make a copy of the coordinates so we don't alter the original\n",
    "    trial_coords = coords.copy()\n",
    "    n_atoms, n_dims = coords.shape\n",
    "\n",
    "    for i in range(n_atoms):\n",
    "        for j in range(n_dims):\n",
    "            trial_coords[i,j] += np.random.randn() * delta\n",
    "\n",
    "    return trial_coords\n",
    "\n",
    "@nb.jit(nopython=True)\n",
    "def propagate(coords, d0, delta, n_steps):\n",
    "    '''Advance the system forward by taking nsteps using a Metropolis Monte Carlo\n",
    "    acceptance/rejection scheme'''\n",
    "\n",
    "    # First get the current energy of the system\n",
    "    d = calculate_distances(coords)\n",
    "    E_curr = calculate_energy(d, d0)\n",
    "\n",
    "    n_accepted = 0\n",
    "\n",
    "    for i in range(n_steps):\n",
    "        trial_coords = generate_trial_move(coords, delta)\n",
    "        d_trial = calculate_distances(trial_coords)\n",
    "        E_trial = calculate_energy(d_trial, d0)\n",
    "\n",
    "        dE = E_trial - E_curr\n",
    "        if dE <= 0:\n",
    "            accept = True\n",
    "        else:\n",
    "            rn = np.random.random()\n",
    "            a = np.exp(-dE)\n",
    "            if rn <= a:\n",
    "                accept = True\n",
    "            else:\n",
    "                accept = False\n",
    "\n",
    "        if accept:\n",
    "            n_accepted += 1\n",
    "            E_curr = E_trial\n",
    "            coords[:] = trial_coords\n",
    "            d[:] = d_trial\n",
    "\n",
    "    return coords, n_accepted\n"
   ]
  },
  {
   "cell_type": "code",
   "execution_count": 17,
   "metadata": {
    "collapsed": false
   },
   "outputs": [],
   "source": [
    "ref_coords = folding.read_coordinates('2f4k_bb.xyz')\n",
    "d0 = folding.calculate_distances(ref_coords)\n",
    "n_atoms = d0.shape[0]\n",
    "\n",
    "coords = folding.create_extended_chain(n_atoms, 3.0)\n"
   ]
  },
  {
   "cell_type": "code",
   "execution_count": 18,
   "metadata": {
    "collapsed": false
   },
   "outputs": [
    {
     "name": "stdout",
     "output_type": "stream",
     "text": [
      "The slowest run took 14462.27 times longer than the fastest. This could mean that an intermediate result is being cached.\n",
      "100000 loops, best of 3: 12.1 µs per loop\n"
     ]
    }
   ],
   "source": [
    "%timeit generate_trial_move(coords, 0.03)"
   ]
  },
  {
   "cell_type": "code",
   "execution_count": 19,
   "metadata": {
    "collapsed": false
   },
   "outputs": [
    {
     "name": "stdout",
     "output_type": "stream",
     "text": [
      "The slowest run took 1431.39 times longer than the fastest. This could mean that an intermediate result is being cached.\n",
      "10000 loops, best of 3: 84.9 µs per loop\n"
     ]
    }
   ],
   "source": [
    "%timeit calculate_distances(coords)"
   ]
  },
  {
   "cell_type": "code",
   "execution_count": 20,
   "metadata": {
    "collapsed": true
   },
   "outputs": [],
   "source": [
    "d = calculate_distances(coords)"
   ]
  },
  {
   "cell_type": "code",
   "execution_count": 21,
   "metadata": {
    "collapsed": false
   },
   "outputs": [
    {
     "name": "stdout",
     "output_type": "stream",
     "text": [
      "The slowest run took 8785.89 times longer than the fastest. This could mean that an intermediate result is being cached.\n",
      "1 loop, best of 3: 40.1 µs per loop\n"
     ]
    }
   ],
   "source": [
    "%timeit calculate_energy(d, d0)"
   ]
  },
  {
   "cell_type": "code",
   "execution_count": 22,
   "metadata": {
    "collapsed": false
   },
   "outputs": [
    {
     "name": "stdout",
     "output_type": "stream",
     "text": [
      "The slowest run took 1042.42 times longer than the fastest. This could mean that an intermediate result is being cached.\n",
      "1 loop, best of 3: 267 µs per loop\n"
     ]
    }
   ],
   "source": [
    "%timeit propagate(coords, d0, 0.03, 1)"
   ]
  },
  {
   "cell_type": "code",
   "execution_count": 16,
   "metadata": {
    "collapsed": false
   },
   "outputs": [
    {
     "data": {
      "text/plain": [
       "140"
      ]
     },
     "execution_count": 16,
     "metadata": {},
     "output_type": "execute_result"
    }
   ],
   "source": [
    "n_atoms"
   ]
  },
  {
   "cell_type": "code",
   "execution_count": 11,
   "metadata": {
    "collapsed": true
   },
   "outputs": [],
   "source": [
    "@nb.njit\n",
    "def pairwise_python(X):\n",
    "    M = X.shape[0]\n",
    "    N = X.shape[1]\n",
    "    D = np.empty((M, M), dtype=np.float64)\n",
    "    for i in range(M):\n",
    "        for j in range(M):\n",
    "            d = 0.0\n",
    "            for k in range(N):\n",
    "                tmp = X[i, k] - X[j, k]\n",
    "                d += tmp * tmp\n",
    "            D[i, j] = np.sqrt(d)\n",
    "    return D\n",
    "\n",
    "@nb.jit(nopython=True)\n",
    "def calculate_distances(coords):\n",
    "    '''Calculate the pairwise distances between all atoms returning an\n",
    "    (n_atoms, n_atoms) array, where d_{i,j} is the Euclidean distance\n",
    "    between atom i and atom j.'''\n",
    "\n",
    "    n_atoms = coords.shape[0]\n",
    "    n_dims = coords.shape[1]\n",
    "    d = np.empty((n_atoms, n_atoms), dtype=np.float64)\n",
    "\n",
    "    # We will loop over all pairs, but an obvious place for speeding this up\n",
    "    # is recognizing that d_{i,j} == d_{j,i} and d_{i,i] == 0.0\n",
    "    for i in range(n_atoms):\n",
    "        for j in range(n_atoms):\n",
    "            d_ij = 0.0\n",
    "            for k in range(n_dims):\n",
    "                r = coords[i,k] - coords[j,k]\n",
    "                d_ij += r * r\n",
    "\n",
    "            d[i,j] = np.sqrt(d_ij)\n",
    "\n",
    "    return d"
   ]
  },
  {
   "cell_type": "code",
   "execution_count": 12,
   "metadata": {
    "collapsed": false
   },
   "outputs": [
    {
     "name": "stdout",
     "output_type": "stream",
     "text": [
      "The slowest run took 1534.38 times longer than the fastest. This could mean that an intermediate result is being cached.\n",
      "10000 loops, best of 3: 85.5 µs per loop\n"
     ]
    }
   ],
   "source": [
    "%timeit pairwise_python(coords)"
   ]
  },
  {
   "cell_type": "code",
   "execution_count": 13,
   "metadata": {
    "collapsed": false
   },
   "outputs": [
    {
     "name": "stdout",
     "output_type": "stream",
     "text": [
      "The slowest run took 1594.88 times longer than the fastest. This could mean that an intermediate result is being cached.\n",
      "10000 loops, best of 3: 85 µs per loop\n"
     ]
    }
   ],
   "source": [
    "%timeit calculate_distances(coords)"
   ]
  },
  {
   "cell_type": "code",
   "execution_count": 14,
   "metadata": {
    "collapsed": false
   },
   "outputs": [
    {
     "data": {
      "text/plain": [
       "True"
      ]
     },
     "execution_count": 14,
     "metadata": {},
     "output_type": "execute_result"
    }
   ],
   "source": [
    "np.allclose(pairwise_python(coords), calculate_distances(coords))"
   ]
  },
  {
   "cell_type": "code",
   "execution_count": null,
   "metadata": {
    "collapsed": true
   },
   "outputs": [],
   "source": []
  }
 ],
 "metadata": {
  "kernelspec": {
   "display_name": "Python 2",
   "language": "python",
   "name": "python2"
  },
  "language_info": {
   "codemirror_mode": {
    "name": "ipython",
    "version": 2
   },
   "file_extension": ".py",
   "mimetype": "text/x-python",
   "name": "python",
   "nbconvert_exporter": "python",
   "pygments_lexer": "ipython2",
   "version": "2.7.12"
  }
 },
 "nbformat": 4,
 "nbformat_minor": 0
}
